{
 "cells": [
  {
   "cell_type": "code",
   "execution_count": 1,
   "id": "ef2bdca5",
   "metadata": {},
   "outputs": [],
   "source": [
    "#pip install memory-profiler"
   ]
  },
  {
   "cell_type": "code",
   "execution_count": 2,
   "id": "4e2f3103",
   "metadata": {},
   "outputs": [],
   "source": [
    "%load_ext memory_profiler"
   ]
  },
  {
   "cell_type": "markdown",
   "id": "1b916109",
   "metadata": {},
   "source": [
    "# Essential Libraries"
   ]
  },
  {
   "cell_type": "code",
   "execution_count": 22,
   "id": "47cad82f",
   "metadata": {},
   "outputs": [],
   "source": [
    "from collections import deque\n",
    "import heapq\n",
    "import time"
   ]
  },
  {
   "cell_type": "markdown",
   "id": "2a0b6c28",
   "metadata": {},
   "source": [
    "## Pouring Bread Function"
   ]
  },
  {
   "cell_type": "code",
   "execution_count": 23,
   "id": "14852499",
   "metadata": {},
   "outputs": [],
   "source": [
    "def pour_bread(jug_state, jug_capacity, visited):\n",
    "    new_states = set()\n",
    "\n",
    "    for i in range(3):\n",
    "        for j in range(3):\n",
    "            if i != j:\n",
    "                pour_amount = min(jug_state[i], jug_capacity[j] - jug_state[j])\n",
    "                if pour_amount > 0:\n",
    "                    new_state = list(jug_state)\n",
    "                    new_state[i] -= pour_amount\n",
    "                    new_state[j] += pour_amount\n",
    "                    new_states.add(tuple(new_state))\n",
    "\n",
    "    return new_states"
   ]
  },
  {
   "cell_type": "markdown",
   "id": "551a7952",
   "metadata": {},
   "source": [
    "## Miracle of Jesus (Power to the 2 Function)"
   ]
  },
  {
   "cell_type": "code",
   "execution_count": 24,
   "id": "b1bbe558",
   "metadata": {},
   "outputs": [],
   "source": [
    "def power_of_two(jug_state, jug_capacity, visited):\n",
    "    new_states = set()\n",
    "    jesus_cost = 0\n",
    "\n",
    "    for i in range(3):\n",
    "        if (jug_state[i] > 1) and (2 ** jug_state[i] <= jug_capacity[i]):\n",
    "            new_state = list(jug_state)\n",
    "            new_state[i] = 2 ** jug_state[i]\n",
    "            jesus_cost += (new_state[i] - jug_state[i]) + 1\n",
    "            new_states.add(tuple(new_state))\n",
    "\n",
    "    return new_states, jesus_cost"
   ]
  },
  {
   "cell_type": "markdown",
   "id": "975e44ae",
   "metadata": {},
   "source": [
    "# BFS Algorithm"
   ]
  },
  {
   "cell_type": "code",
   "execution_count": 25,
   "id": "d30c83b8",
   "metadata": {},
   "outputs": [],
   "source": [
    "def BFS(initial_state, target_state, capacity):\n",
    "    initial_state = tuple(initial_state)\n",
    "    target_state = tuple(target_state)\n",
    "    queue = deque([(initial_state, 0)])  # (state, cost)\n",
    "    visited = set()\n",
    "\n",
    "    while queue:\n",
    "        current_state, current_cost = queue.popleft()\n",
    "        visited.add(current_state)\n",
    "\n",
    "        if current_state == target_state:\n",
    "            return current_cost\n",
    "\n",
    "        pour_states = pour_bread(current_state, capacity, visited)\n",
    "        power_states = power_of_two(current_state, capacity, visited)\n",
    "\n",
    "        for state in pour_states.union(power_states[0]):\n",
    "            if state not in visited:\n",
    "                queue.append((state, current_cost + 1 if state in pour_states else current_cost + power_states[1]))\n",
    "\n",
    "    return False  #  It means the target state is not reachable"
   ]
  },
  {
   "cell_type": "markdown",
   "id": "0cdeb1d1",
   "metadata": {},
   "source": [
    "# A* Algorithm"
   ]
  },
  {
   "cell_type": "code",
   "execution_count": 64,
   "id": "4b53cd63",
   "metadata": {},
   "outputs": [],
   "source": [
    "def heuristic(state, target):\n",
    "     # A cost estimation from the current to the target state\n",
    "    return sum(abs(state[i] - target[i]) for i in range(len(state)))\n",
    "\n",
    "def A_star(initial_state, target_state, capacity):\n",
    "    initial_state = tuple(initial_state)\n",
    "    target_state = tuple(target_state)\n",
    "    priority_queue = [(0, initial_state, [])]  # (f(n), state, path)\n",
    "    heapq.heapify(priority_queue)\n",
    "    visited = set()\n",
    "\n",
    "    while priority_queue:\n",
    "        current_cost, current_state, path = heapq.heappop(priority_queue)\n",
    "        visited.add(current_state)\n",
    "\n",
    "        if current_state == target_state:\n",
    "            return path, f_n  \n",
    "\n",
    "        pour_states = pour_bread(current_state, capacity, visited)\n",
    "        power_states = power_of_two(current_state, capacity, visited)\n",
    "\n",
    "        for state in pour_states.union(power_states[0]):\n",
    "            if state not in visited:\n",
    "                g_n = len(path)  # the number of steps taken so far\n",
    "                h_n = heuristic(state, target_state)\n",
    "                f_n = g_n + h_n\n",
    "                heapq.heappush(priority_queue, (f_n, state, path + [state]))\n",
    "\n",
    "    return []  #  It means the target state is not reachable"
   ]
  },
  {
   "cell_type": "code",
   "execution_count": 65,
   "id": "51e76058",
   "metadata": {},
   "outputs": [
    {
     "name": "stdout",
     "output_type": "stream",
     "text": [
      "BFS is:  7\n",
      "A* is:  ([(3, 0, 42), (0, 3, 42), (3, 3, 39), (1, 5, 39), (1, 0, 44), (0, 1, 44), (3, 1, 41)], 6)\n"
     ]
    }
   ],
   "source": [
    "initial_state = [0, 0, 45]\n",
    "target_state = [3, 1, 41]\n",
    "capacity = [3, 5, 100]\n",
    "\n",
    "result_BFS = BFS(initial_state, target_state, capacity)\n",
    "result_A_star = A_star(initial_state, target_state, capacity)\n",
    "\n",
    "print(\"BFS is: \", result_BFS)\n",
    "print(\"A* is: \", result_A_star)"
   ]
  },
  {
   "cell_type": "code",
   "execution_count": 66,
   "id": "722b37bc",
   "metadata": {},
   "outputs": [
    {
     "name": "stdout",
     "output_type": "stream",
     "text": [
      "BFS took 0.0000000000 seconds to run.\n",
      "A* took 0.0000000000 seconds to run.\n"
     ]
    }
   ],
   "source": [
    "start_time_1 = time.time()\n",
    "BFS(initial_state, target_state, capacity)\n",
    "end_time_1 = time.time()\n",
    "execution_time_1 = end_time_1 - start_time_1\n",
    "\n",
    "start_time_2 = time.time()\n",
    "A_star(initial_state, target_state, capacity)\n",
    "end_time_2 = time.time()\n",
    "execution_time_2 = end_time_2 - start_time_2\n",
    "\n",
    "print(f\"BFS took {execution_time_1:.10f} seconds to run.\")\n",
    "print(f\"A* took {execution_time_2:.10f} seconds to run.\")"
   ]
  },
  {
   "cell_type": "code",
   "execution_count": 67,
   "id": "85d7a32c",
   "metadata": {},
   "outputs": [
    {
     "name": "stdout",
     "output_type": "stream",
     "text": [
      "peak memory: 74.95 MiB, increment: 0.00 MiB\n"
     ]
    }
   ],
   "source": [
    "%memit A_star(initial_state, target_state, capacity)\n"
   ]
  },
  {
   "cell_type": "code",
   "execution_count": 68,
   "id": "e6f43f9f",
   "metadata": {},
   "outputs": [
    {
     "name": "stdout",
     "output_type": "stream",
     "text": [
      "peak memory: 74.96 MiB, increment: 0.00 MiB\n"
     ]
    }
   ],
   "source": [
    "%memit BFS(initial_state, target_state, capacity)\n"
   ]
  },
  {
   "cell_type": "code",
   "execution_count": null,
   "id": "a614aaa0",
   "metadata": {},
   "outputs": [],
   "source": []
  }
 ],
 "metadata": {
  "kernelspec": {
   "display_name": "Python 3 (ipykernel)",
   "language": "python",
   "name": "python3"
  },
  "language_info": {
   "codemirror_mode": {
    "name": "ipython",
    "version": 3
   },
   "file_extension": ".py",
   "mimetype": "text/x-python",
   "name": "python",
   "nbconvert_exporter": "python",
   "pygments_lexer": "ipython3",
   "version": "3.11.5"
  }
 },
 "nbformat": 4,
 "nbformat_minor": 5
}
